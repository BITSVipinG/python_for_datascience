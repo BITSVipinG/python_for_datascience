{
 "cells": [
  {
   "cell_type": "markdown",
   "metadata": {},
   "source": [
    "Citation-https://towardsdatascience.com/object-detection-with-10-lines-of-code-d6cb4d86f606"
   ]
  },
  {
   "cell_type": "code",
   "execution_count": 1,
   "metadata": {},
   "outputs": [
    {
     "name": "stdout",
     "output_type": "stream",
     "text": [
      "Requirement already satisfied: tensorflow in c:\\users\\kogentix\\anaconda3\\lib\\site-packages (1.6.0)\n",
      "Requirement already satisfied: tensorboard<1.7.0,>=1.6.0 in c:\\users\\kogentix\\anaconda3\\lib\\site-packages (from tensorflow) (1.6.0)\n",
      "Requirement already satisfied: grpcio>=1.8.6 in c:\\users\\kogentix\\anaconda3\\lib\\site-packages (from tensorflow) (1.10.0)\n",
      "Requirement already satisfied: numpy>=1.13.3 in c:\\users\\kogentix\\anaconda3\\lib\\site-packages (from tensorflow) (1.15.0)\n",
      "Requirement already satisfied: six>=1.10.0 in c:\\users\\kogentix\\anaconda3\\lib\\site-packages (from tensorflow) (1.11.0)\n",
      "Requirement already satisfied: astor>=0.6.0 in c:\\users\\kogentix\\anaconda3\\lib\\site-packages (from tensorflow) (0.6.2)\n",
      "Requirement already satisfied: absl-py>=0.1.6 in c:\\users\\kogentix\\anaconda3\\lib\\site-packages (from tensorflow) (0.1.11)\n",
      "Requirement already satisfied: termcolor>=1.1.0 in c:\\users\\kogentix\\anaconda3\\lib\\site-packages (from tensorflow) (1.1.0)\n",
      "Requirement already satisfied: protobuf>=3.4.0 in c:\\users\\kogentix\\anaconda3\\lib\\site-packages (from tensorflow) (3.5.2)\n",
      "Requirement already satisfied: gast>=0.2.0 in c:\\users\\kogentix\\anaconda3\\lib\\site-packages (from tensorflow) (0.2.0)\n",
      "Requirement already satisfied: wheel>=0.26 in c:\\users\\kogentix\\anaconda3\\lib\\site-packages (from tensorflow) (0.30.0)\n",
      "Requirement already satisfied: bleach==1.5.0 in c:\\users\\kogentix\\anaconda3\\lib\\site-packages (from tensorboard<1.7.0,>=1.6.0->tensorflow) (1.5.0)\n",
      "Requirement already satisfied: markdown>=2.6.8 in c:\\users\\kogentix\\anaconda3\\lib\\site-packages (from tensorboard<1.7.0,>=1.6.0->tensorflow) (2.6.11)\n",
      "Requirement already satisfied: html5lib==0.9999999 in c:\\users\\kogentix\\anaconda3\\lib\\site-packages (from tensorboard<1.7.0,>=1.6.0->tensorflow) (0.9999999)\n",
      "Requirement already satisfied: werkzeug>=0.11.10 in c:\\users\\kogentix\\anaconda3\\lib\\site-packages (from tensorboard<1.7.0,>=1.6.0->tensorflow) (0.14.1)\n",
      "Requirement already satisfied: setuptools in c:\\users\\kogentix\\anaconda3\\lib\\site-packages (from protobuf>=3.4.0->tensorflow) (38.5.2)\n"
     ]
    }
   ],
   "source": [
    "! pip install tensorflow\n",
    "\n"
   ]
  },
  {
   "cell_type": "code",
   "execution_count": 2,
   "metadata": {},
   "outputs": [
    {
     "name": "stdout",
     "output_type": "stream",
     "text": [
      "Requirement already up-to-date: pip in c:\\users\\kogentix\\anaconda3\\lib\\site-packages (18.0)\n"
     ]
    }
   ],
   "source": [
    "! pip install --upgrade pip"
   ]
  },
  {
   "cell_type": "markdown",
   "metadata": {},
   "source": [
    "conda install numpy"
   ]
  },
  {
   "cell_type": "code",
   "execution_count": 3,
   "metadata": {},
   "outputs": [
    {
     "name": "stdout",
     "output_type": "stream",
     "text": [
      "Collecting numpy\n",
      "  Using cached https://files.pythonhosted.org/packages/53/d1/2499797c88de95ea3239ad7f6e6a47895fe51aad1aa2a116f50ec9e0ee74/numpy-1.15.0-cp36-none-win_amd64.whl\n",
      "Installing collected packages: numpy\n",
      "Successfully installed numpy-1.15.0\n"
     ]
    },
    {
     "name": "stderr",
     "output_type": "stream",
     "text": [
      "kmodes 0.7 has requirement numpy==1.12.1, but you'll have numpy 1.15.0 which is incompatible.\n",
      "kmodes 0.7 has requirement scikit-learn==0.18.1, but you'll have scikit-learn 0.19.1 which is incompatible.\n",
      "kmodes 0.7 has requirement scipy==0.19.0, but you'll have scipy 1.0.0 which is incompatible.\n"
     ]
    }
   ],
   "source": [
    "! pip install numpy -I"
   ]
  },
  {
   "cell_type": "code",
   "execution_count": 4,
   "metadata": {},
   "outputs": [],
   "source": [
    "import numpy.core.multiarray"
   ]
  },
  {
   "cell_type": "code",
   "execution_count": 5,
   "metadata": {},
   "outputs": [
    {
     "name": "stdout",
     "output_type": "stream",
     "text": [
      "Requirement already satisfied: spacy in c:\\users\\kogentix\\anaconda3\\lib\\site-packages (2.0.11)\n",
      "Requirement already satisfied: numpy>=1.7 in c:\\users\\kogentix\\anaconda3\\lib\\site-packages (from spacy) (1.15.0)\n",
      "Requirement already satisfied: murmurhash<0.29,>=0.28 in c:\\users\\kogentix\\anaconda3\\lib\\site-packages (from spacy) (0.28.0)\n",
      "Requirement already satisfied: cymem<1.32,>=1.30 in c:\\users\\kogentix\\anaconda3\\lib\\site-packages (from spacy) (1.31.2)\n",
      "Requirement already satisfied: preshed<2.0.0,>=1.0.0 in c:\\users\\kogentix\\anaconda3\\lib\\site-packages (from spacy) (1.0.0)\n",
      "Requirement already satisfied: thinc<6.11.0,>=6.10.1 in c:\\users\\kogentix\\anaconda3\\lib\\site-packages (from spacy) (6.10.2)\n",
      "Requirement already satisfied: plac<1.0.0,>=0.9.6 in c:\\users\\kogentix\\anaconda3\\lib\\site-packages (from spacy) (0.9.6)\n",
      "Requirement already satisfied: pathlib in c:\\users\\kogentix\\anaconda3\\lib\\site-packages (from spacy) (1.0.1)\n",
      "Requirement already satisfied: ujson>=1.35 in c:\\users\\kogentix\\anaconda3\\lib\\site-packages (from spacy) (1.35)\n",
      "Requirement already satisfied: dill<0.3,>=0.2 in c:\\users\\kogentix\\anaconda3\\lib\\site-packages (from spacy) (0.2.7.1)\n",
      "Requirement already satisfied: regex==2017.4.5 in c:\\users\\kogentix\\anaconda3\\lib\\site-packages (from spacy) (2017.4.5)\n",
      "Requirement already satisfied: wrapt in c:\\users\\kogentix\\anaconda3\\lib\\site-packages (from thinc<6.11.0,>=6.10.1->spacy) (1.10.10)\n",
      "Requirement already satisfied: tqdm<5.0.0,>=4.10.0 in c:\\users\\kogentix\\anaconda3\\lib\\site-packages (from thinc<6.11.0,>=6.10.1->spacy) (4.23.0)\n",
      "Requirement already satisfied: cytoolz<0.9,>=0.8 in c:\\users\\kogentix\\anaconda3\\lib\\site-packages (from thinc<6.11.0,>=6.10.1->spacy) (0.8.2)\n",
      "Requirement already satisfied: six<2.0.0,>=1.10.0 in c:\\users\\kogentix\\anaconda3\\lib\\site-packages (from thinc<6.11.0,>=6.10.1->spacy) (1.11.0)\n",
      "Requirement already satisfied: termcolor in c:\\users\\kogentix\\anaconda3\\lib\\site-packages (from thinc<6.11.0,>=6.10.1->spacy) (1.1.0)\n",
      "Requirement already satisfied: msgpack-python in c:\\users\\kogentix\\anaconda3\\lib\\site-packages (from thinc<6.11.0,>=6.10.1->spacy) (0.4.8)\n",
      "Requirement already satisfied: msgpack-numpy==0.4.1 in c:\\users\\kogentix\\anaconda3\\lib\\site-packages (from thinc<6.11.0,>=6.10.1->spacy) (0.4.1)\n",
      "Requirement already satisfied: pyreadline>=1.7.1 in c:\\users\\kogentix\\anaconda3\\lib\\site-packages (from dill<0.3,>=0.2->spacy) (2.1)\n"
     ]
    }
   ],
   "source": [
    "!pip install spacy"
   ]
  },
  {
   "cell_type": "code",
   "execution_count": 7,
   "metadata": {},
   "outputs": [
    {
     "name": "stdout",
     "output_type": "stream",
     "text": [
      "Requirement already satisfied: scipy in c:\\users\\kogentix\\anaconda3\\lib\\site-packages (1.0.0)\n"
     ]
    }
   ],
   "source": [
    "! pip install scipy\n"
   ]
  },
  {
   "cell_type": "code",
   "execution_count": 8,
   "metadata": {},
   "outputs": [
    {
     "name": "stdout",
     "output_type": "stream",
     "text": [
      "Requirement already satisfied: opencv-python in c:\\users\\kogentix\\anaconda3\\lib\\site-packages (3.4.2.17)\n",
      "Requirement already satisfied: numpy>=1.11.3 in c:\\users\\kogentix\\anaconda3\\lib\\site-packages (from opencv-python) (1.15.0)\n"
     ]
    }
   ],
   "source": [
    "! pip install opencv-python\n",
    "\n"
   ]
  },
  {
   "cell_type": "code",
   "execution_count": 9,
   "metadata": {},
   "outputs": [
    {
     "name": "stdout",
     "output_type": "stream",
     "text": [
      "Requirement already satisfied: pillow in c:\\users\\kogentix\\anaconda3\\lib\\site-packages (5.0.0)\n"
     ]
    }
   ],
   "source": [
    "! pip install pillow\n",
    "\n"
   ]
  },
  {
   "cell_type": "code",
   "execution_count": 10,
   "metadata": {},
   "outputs": [
    {
     "name": "stdout",
     "output_type": "stream",
     "text": [
      "Requirement already satisfied: matplotlib in c:\\users\\kogentix\\anaconda3\\lib\\site-packages (2.2.2)\n",
      "Requirement already satisfied: numpy>=1.7.1 in c:\\users\\kogentix\\anaconda3\\lib\\site-packages (from matplotlib) (1.15.0)\n",
      "Requirement already satisfied: cycler>=0.10 in c:\\users\\kogentix\\anaconda3\\lib\\site-packages (from matplotlib) (0.10.0)\n",
      "Requirement already satisfied: pyparsing!=2.0.4,!=2.1.2,!=2.1.6,>=2.0.1 in c:\\users\\kogentix\\anaconda3\\lib\\site-packages (from matplotlib) (2.1.4)\n",
      "Requirement already satisfied: python-dateutil>=2.1 in c:\\users\\kogentix\\anaconda3\\lib\\site-packages (from matplotlib) (2.6.1)\n",
      "Requirement already satisfied: pytz in c:\\users\\kogentix\\anaconda3\\lib\\site-packages (from matplotlib) (2017.2)\n",
      "Requirement already satisfied: six>=1.10 in c:\\users\\kogentix\\anaconda3\\lib\\site-packages (from matplotlib) (1.11.0)\n",
      "Requirement already satisfied: kiwisolver>=1.0.1 in c:\\users\\kogentix\\anaconda3\\lib\\site-packages (from matplotlib) (1.0.1)\n",
      "Requirement already satisfied: setuptools in c:\\users\\kogentix\\anaconda3\\lib\\site-packages (from kiwisolver>=1.0.1->matplotlib) (38.5.2)\n"
     ]
    }
   ],
   "source": [
    "! pip install matplotlib\n",
    "\n"
   ]
  },
  {
   "cell_type": "code",
   "execution_count": 11,
   "metadata": {},
   "outputs": [
    {
     "name": "stdout",
     "output_type": "stream",
     "text": [
      "Requirement already satisfied: h5py in c:\\users\\kogentix\\anaconda3\\lib\\site-packages (2.7.1)\n",
      "Requirement already satisfied: numpy>=1.7 in c:\\users\\kogentix\\anaconda3\\lib\\site-packages (from h5py) (1.15.0)\n",
      "Requirement already satisfied: six in c:\\users\\kogentix\\anaconda3\\lib\\site-packages (from h5py) (1.11.0)\n"
     ]
    }
   ],
   "source": [
    "! pip install h5py\n",
    "\n"
   ]
  },
  {
   "cell_type": "code",
   "execution_count": 12,
   "metadata": {},
   "outputs": [
    {
     "name": "stdout",
     "output_type": "stream",
     "text": [
      "Requirement already satisfied: keras in c:\\users\\kogentix\\anaconda3\\lib\\site-packages (2.1.5)\n",
      "Requirement already satisfied: pyyaml in c:\\users\\kogentix\\anaconda3\\lib\\site-packages (from keras) (3.12)\n",
      "Requirement already satisfied: scipy>=0.14 in c:\\users\\kogentix\\anaconda3\\lib\\site-packages (from keras) (1.0.0)\n",
      "Requirement already satisfied: six>=1.9.0 in c:\\users\\kogentix\\anaconda3\\lib\\site-packages (from keras) (1.11.0)\n",
      "Requirement already satisfied: numpy>=1.9.1 in c:\\users\\kogentix\\anaconda3\\lib\\site-packages (from keras) (1.15.0)\n"
     ]
    }
   ],
   "source": [
    "! pip install keras\n",
    "\n"
   ]
  },
  {
   "cell_type": "code",
   "execution_count": 13,
   "metadata": {},
   "outputs": [
    {
     "name": "stdout",
     "output_type": "stream",
     "text": [
      "Requirement already satisfied: imageai==2.0.2 from https://github.com/OlafenwaMoses/ImageAI/releases/download/2.0.2/imageai-2.0.2-py3-none-any.whl in c:\\users\\kogentix\\anaconda3\\lib\\site-packages (2.0.2)\n"
     ]
    }
   ],
   "source": [
    "! pip3 install https://github.com/OlafenwaMoses/ImageAI/releases/download/2.0.2/imageai-2.0.2-py3-none-any.whl"
   ]
  },
  {
   "cell_type": "markdown",
   "metadata": {},
   "source": [
    "Download the RetinaNet model file that will be used for object detection via this link\n",
    "https://github.com/OlafenwaMoses/ImageAI/releases/download/1.0/resnet50_coco_best_v2.0.1.h5"
   ]
  },
  {
   "cell_type": "code",
   "execution_count": 14,
   "metadata": {},
   "outputs": [],
   "source": [
    "import os as os"
   ]
  },
  {
   "cell_type": "code",
   "execution_count": 15,
   "metadata": {},
   "outputs": [
    {
     "data": {
      "text/plain": [
       "'C:\\\\Users\\\\KOGENTIX'"
      ]
     },
     "execution_count": 15,
     "metadata": {},
     "output_type": "execute_result"
    }
   ],
   "source": [
    "os.getcwd()"
   ]
  },
  {
   "cell_type": "code",
   "execution_count": 16,
   "metadata": {},
   "outputs": [],
   "source": [
    "os.chdir('C:\\\\Users\\\\KOGENTIX\\\\Desktop\\\\image')"
   ]
  },
  {
   "cell_type": "code",
   "execution_count": 17,
   "metadata": {},
   "outputs": [
    {
     "data": {
      "text/plain": [
       "'C:\\\\Users\\\\KOGENTIX\\\\Desktop\\\\image'"
      ]
     },
     "execution_count": 17,
     "metadata": {},
     "output_type": "execute_result"
    }
   ],
   "source": [
    "os.getcwd()"
   ]
  },
  {
   "cell_type": "code",
   "execution_count": 23,
   "metadata": {},
   "outputs": [
    {
     "name": "stdout",
     "output_type": "stream",
     "text": [
      "person  :  56.95698857307434\n",
      "person  :  52.80917286872864\n",
      "person  :  70.20386457443237\n",
      "person  :  76.8346905708313\n",
      "person  :  78.70020866394043\n",
      "bicycle  :  79.7773540019989\n",
      "person  :  83.55741500854492\n",
      "person  :  89.43805694580078\n",
      "truck  :  60.933083295822144\n",
      "person  :  69.52632069587708\n",
      "bus  :  98.00646901130676\n",
      "truck  :  83.69445204734802\n",
      "car  :  71.7008650302887\n"
     ]
    }
   ],
   "source": [
    "from imageai.Detection import ObjectDetection\n",
    "import os\n",
    "\n",
    "execution_path = os.getcwd()\n",
    "\n",
    "detector = ObjectDetection()\n",
    "detector.setModelTypeAsRetinaNet()\n",
    "detector.setModelPath( os.path.join(execution_path , \"resnet50_coco_best_v2.0.1.h5\"))\n",
    "detector.loadModel()\n",
    "detections = detector.detectObjectsFromImage(input_image=os.path.join(execution_path , \"image.jpeg\"), output_image_path=os.path.join(execution_path , \"imagenew.jpeg\"))\n",
    "\n",
    "for eachObject in detections:\n",
    "    print(eachObject[\"name\"] , \" : \" , eachObject[\"percentage_probability\"] )"
   ]
  },
  {
   "cell_type": "code",
   "execution_count": null,
   "metadata": {},
   "outputs": [],
   "source": []
  }
 ],
 "metadata": {
  "kernelspec": {
   "display_name": "Python 3",
   "language": "python",
   "name": "python3"
  },
  "language_info": {
   "codemirror_mode": {
    "name": "ipython",
    "version": 3
   },
   "file_extension": ".py",
   "mimetype": "text/x-python",
   "name": "python",
   "nbconvert_exporter": "python",
   "pygments_lexer": "ipython3",
   "version": "3.6.6"
  }
 },
 "nbformat": 4,
 "nbformat_minor": 2
}
