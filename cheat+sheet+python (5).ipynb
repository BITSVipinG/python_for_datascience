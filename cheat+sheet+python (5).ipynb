{
 "cells": [
  {
   "cell_type": "markdown",
   "metadata": {},
   "source": [
    "# Pandas cheat sheet"
   ]
  },
  {
   "cell_type": "markdown",
   "metadata": {},
   "source": [
    "import pandas as pd\n",
    "to import pandas"
   ]
  },
  {
   "cell_type": "markdown",
   "metadata": {},
   "source": [
    "import os as os\n",
    "to import os"
   ]
  },
  {
   "cell_type": "markdown",
   "metadata": {},
   "source": [
    "dataset=pd.read_csv('web address of dataset')\n",
    "to read a dataset directly from the web address\n"
   ]
  },
  {
   "cell_type": "markdown",
   "metadata": {},
   "source": [
    "The total sum of memory of running programe\n",
    "dataset.memory_usage(index=True).sum()\n"
   ]
  },
  {
   "cell_type": "markdown",
   "metadata": {},
   "source": [
    "type(dataset)\n",
    "to know the nature of the pythondataset"
   ]
  },
  {
   "cell_type": "markdown",
   "metadata": {},
   "source": [
    "dataset.dtypes\n",
    "to know the type of each of columns of dataset "
   ]
  },
  {
   "cell_type": "markdown",
   "metadata": {},
   "source": [
    "dataset.info()\n",
    "to know the structure of dataset"
   ]
  },
  {
   "cell_type": "markdown",
   "metadata": {},
   "source": [
    "dataset.shape\n",
    "to know the dimension of dataset"
   ]
  },
  {
   "cell_type": "markdown",
   "metadata": {},
   "source": [
    "dataset.tail()\n",
    "to know the last rows and columns of the dataset "
   ]
  },
  {
   "cell_type": "markdown",
   "metadata": {},
   "source": [
    "len(dataset)\n",
    "to know the rows of the dataset "
   ]
  },
  {
   "cell_type": "markdown",
   "metadata": {},
   "source": [
    "dataset.shape[1]\n",
    "to know the rows of the dataset "
   ]
  },
  {
   "cell_type": "markdown",
   "metadata": {},
   "source": [
    "len(dataset.columns)\n",
    "to know the length of columns of the dataset "
   ]
  },
  {
   "cell_type": "markdown",
   "metadata": {},
   "source": [
    "dataset.head()\n",
    "to know the first rows and columns of the dataset"
   ]
  },
  {
   "cell_type": "markdown",
   "metadata": {},
   "source": [
    "dataset.head(100)\n",
    "dataset.tail(100)\n",
    "to get the first 100 rows of the dataset and last 100 rows of the dataset "
   ]
  },
  {
   "cell_type": "markdown",
   "metadata": {},
   "source": [
    "dataset.columnname.head(100)\n",
    "to know the first 100 rows of the particular column in the dataset"
   ]
  },
  {
   "cell_type": "markdown",
   "metadata": {},
   "source": [
    "dataset.head().columnname\n",
    "to get all the rows of the particuar column in the dataset"
   ]
  },
  {
   "cell_type": "markdown",
   "metadata": {},
   "source": [
    "dataset['columnname'].head()\n",
    "to get head of the particular column"
   ]
  },
  {
   "cell_type": "markdown",
   "metadata": {},
   "source": [
    "dataset[['columnname1','columnname2','columnname3']].head()\n",
    "to get the head of the specified columns in the dataset"
   ]
  },
  {
   "cell_type": "markdown",
   "metadata": {},
   "source": [
    "dataset.iloc[:,[1,2,8]].head()\n",
    "to get the head of the  second third and ninth rows of the dataset "
   ]
  },
  {
   "cell_type": "markdown",
   "metadata": {},
   "source": [
    "dataset.iloc[20:30,[1,2,8]].head()\n",
    "to get the head of 21st row till 31st row of the dataset of colums second third and ninth of the dataset"
   ]
  },
  {
   "cell_type": "markdown",
   "metadata": {
    "collapsed": true
   },
   "source": [
    "dataset.ix[20:30]\n",
    "to get the 21st row till 31st row of the dataset"
   ]
  },
  {
   "cell_type": "markdown",
   "metadata": {},
   "source": [
    "dataset[['columnname1,''columnname2','columnname3']].ix[20:30]\n",
    "to get the specified columns in the dataset of 21st rows till 31st row"
   ]
  },
  {
   "cell_type": "markdown",
   "metadata": {
    "collapsed": true
   },
   "source": [
    "rows=np.random(dataset.index.values,round(.25*len(dataset)))\n",
    "to get the random sample rows of 25% of the dataset\n",
    "dataset.ix[rows]\n",
    "to get the dataset of the specified sample of 25% of the dataset "
   ]
  },
  {
   "cell_type": "markdown",
   "metadata": {
    "collapsed": true
   },
   "source": [
    "del.data.columns\n",
    "to delete the specific columns of the dataset"
   ]
  },
  {
   "cell_type": "markdown",
   "metadata": {},
   "source": [
    "del data['columnname']\n",
    "to delete the specific columns of the dataset"
   ]
  },
  {
   "cell_type": "markdown",
   "metadata": {},
   "source": [
    "data.drop(data.columns[[1,9]]axis=1,inplace=True)\n",
    "to drop the 2nd and 10th column of the dataset "
   ]
  },
  {
   "cell_type": "markdown",
   "metadata": {},
   "source": [
    "data.drop(data.index[[1,2,4]])\n",
    "the drop the 2nd,3rd and 5th row of the dataset "
   ]
  },
  {
   "cell_type": "markdown",
   "metadata": {},
   "source": [
    "data=data.copy()\n",
    "to get the master file safe by creating another copy of the dataset. It should be noted that whatever changes are made in data\n",
    "is not there in data.copy()\n"
   ]
  },
  {
   "cell_type": "markdown",
   "metadata": {},
   "source": [
    "data=data1\n",
    "Whatever changes is made in data is also there in data. It is carbon copy of the file"
   ]
  },
  {
   "cell_type": "markdown",
   "metadata": {},
   "source": [
    "s=pd.Series(range(0,100))\n",
    "if we have to drop a series of rows from dataset we select the rows using a series range"
   ]
  },
  {
   "cell_type": "markdown",
   "metadata": {},
   "source": [
    "data.drop(data.index[[s]])\n",
    "Then in the specific case we drop the rows from location to 0 to 99 rows numbering 100. However the row number 100 will be there in dataset "
   ]
  },
  {
   "cell_type": "markdown",
   "metadata": {},
   "source": [
    "data.iloc[:,0:2].values\n",
    "to convert panda file into numpy array"
   ]
  },
  {
   "cell_type": "markdown",
   "metadata": {
    "collapsed": true
   },
   "source": [
    "g=pd.DataFrame(data=data[0:,0:],index=range(0,len(data)),columns=dataset.columns[2:4])\n",
    "\n",
    "to convert numpyfile into panda file having 2nd 3rd rows."
   ]
  },
  {
   "cell_type": "markdown",
   "metadata": {},
   "source": [
    "import os as os\n",
    "import glob as glob\n",
    "extension='csv'\n",
    "path='D:\\\\'\n",
    "result=[i for i in  glob.glob('*.{}'.format(extension))]\n",
    "print(result)\n",
    "\n",
    "to get all the csv files in a particular folder"
   ]
  },
  {
   "cell_type": "markdown",
   "metadata": {},
   "source": [
    "dataset.describe()\n",
    "to check the min,max,count,25,50%,75%,std deviation of data"
   ]
  },
  {
   "cell_type": "markdown",
   "metadata": {},
   "source": [
    "dataset.drop(dataset.columns[1:3],axis=1,inplace=True)\n",
    "to drop 2nd and 3rd columns in the dataset"
   ]
  },
  {
   "cell_type": "markdown",
   "metadata": {
    "collapsed": true
   },
   "source": [
    "dataset=dataset.notnull()*1\n",
    "to convert whole dataset into 1 series\n"
   ]
  },
  {
   "cell_type": "markdown",
   "metadata": {},
   "source": [
    "dataset.fillna(\"vijay\")\n",
    "to fill na values by charachter"
   ]
  },
  {
   "cell_type": "markdown",
   "metadata": {},
   "source": [
    "dataset.fillna(\"vijay\").head()\n",
    "to get the head of the dataset with na values replaced"
   ]
  },
  {
   "cell_type": "markdown",
   "metadata": {
    "collapsed": true
   },
   "source": [
    "dataset.columnname.counts()\n",
    "to get the total of the column of the dataset"
   ]
  },
  {
   "cell_type": "markdown",
   "metadata": {},
   "source": [
    "dataset.columnname.value_counts()\n",
    "to get the total of each variable of tbe column"
   ]
  },
  {
   "cell_type": "markdown",
   "metadata": {},
   "source": [
    "pd.value_counts(dataset.columnname)\n",
    "to get the count of the each of variable in column name"
   ]
  },
  {
   "cell_type": "markdown",
   "metadata": {},
   "source": [
    "dataset.iloc[1:5,]\n",
    "to give the postion wise listing of the dataset from 1nd row to 5th row in the dataset\n",
    "ie row wise listing will start from 1 to row4."
   ]
  },
  {
   "cell_type": "markdown",
   "metadata": {},
   "source": [
    "dataset.iloc[2:5,]\n",
    "to give the position wise listing of the dataset from 2nd row to 5th row in the dataset\n",
    "ie row wise listing will start from 2 and end in row 4 "
   ]
  },
  {
   "cell_type": "markdown",
   "metadata": {},
   "source": [
    "dataset.loc[2:5]\n",
    "it will give label wise listing and will give rows from 2 to row 5\n"
   ]
  },
  {
   "cell_type": "markdown",
   "metadata": {},
   "source": [
    "dataset.loc[2:5,['columnname','columnname1']]\n",
    "to get location wise listing rows from 2 to row 5 with columnname and columnname1 "
   ]
  },
  {
   "cell_type": "markdown",
   "metadata": {
    "collapsed": true
   },
   "source": [
    "dataset[['columnname1','columnname2','columnname3']]\n",
    "to get the specified columns of the dataset"
   ]
  },
  {
   "cell_type": "markdown",
   "metadata": {},
   "source": [
    "dataset[['columnname1','columnname2','columnname3']].ix[20:30]\n",
    "it gives rows from 20 to 30 of the specified columns"
   ]
  },
  {
   "cell_type": "markdown",
   "metadata": {},
   "source": [
    "dataset.ix[20:30][['columnname1','columnname2']]\n",
    "to get the specified rows of the columnname1 and columnname2"
   ]
  },
  {
   "cell_type": "markdown",
   "metadata": {},
   "source": [
    "dataset.ix[20:30].columnname1\n",
    "to get the specified rows of the columname 1"
   ]
  },
  {
   "cell_type": "markdown",
   "metadata": {},
   "source": [
    "dataset.corr()\n",
    "to find relation between variables in the dataset "
   ]
  },
  {
   "cell_type": "markdown",
   "metadata": {},
   "source": [
    "mort5.query(\"year==2008 and ccDebt>5000\")\n",
    "to find the year which is 2008 and ccdebt greater than 5000\n"
   ]
  },
  {
   "cell_type": "markdown",
   "metadata": {},
   "source": [
    "mort6['type']=np.where(mort6['ccDebt']>5000,'high','low')\n",
    "mort['type']=np.where(mort6['ccDebt']>5000,'high','low')"
   ]
  },
  {
   "cell_type": "markdown",
   "metadata": {},
   "source": [
    "mort6.loc[(mort6['ccDebt']>5000)&(mort6['default']==0)]\n",
    "to find dataset based on specified columns with and series"
   ]
  },
  {
   "cell_type": "markdown",
   "metadata": {},
   "source": [
    "mort6.loc[(mort6['ccDebt']>5000)|(mort6['default']==0)]\n",
    "to find dataset based on specified columns using or series"
   ]
  },
  {
   "cell_type": "markdown",
   "metadata": {},
   "source": [
    "mort6.loc[(mort6['ccDebt']>5000)|(mort6['default']==0),'year']\n",
    "it returns a series of data where the specified conditions are met "
   ]
  },
  {
   "cell_type": "markdown",
   "metadata": {},
   "source": [
    "mort6.loc[(mort6['ccDebt']>5000)&(mort6['default']==1),'type']='risky'\n",
    "it assgns a new variable based on specified conditions to existing columns"
   ]
  },
  {
   "cell_type": "markdown",
   "metadata": {},
   "source": [
    "pd.crosstab(dataset.column1,dataset.column2,normalize='index',margins=True)\n",
    "\n",
    "to do crosstab using 2 columns and using total and % of data "
   ]
  },
  {
   "cell_type": "markdown",
   "metadata": {},
   "source": [
    "aValue=5000\n",
    "\n",
    "df.ix[(df.CCC-aValue).abs().argsort()]\n",
    "to sort the values of column based on the value specified "
   ]
  },
  {
   "cell_type": "markdown",
   "metadata": {},
   "source": [
    "df[(df.columnname<6)&(df.index.isin([0,2,4]))]\n",
    "to select specifed columns and select index of rows"
   ]
  },
  {
   "cell_type": "markdown",
   "metadata": {},
   "source": [
    "df.T\n",
    "\n",
    "to transpose the columns and rows of the dataset \n"
   ]
  },
  {
   "cell_type": "markdown",
   "metadata": {},
   "source": [
    "dflow=df[df.AAA>5]\n",
    "dflow=df[df.AAA<=5]\n",
    "to split the dataset into 2 based on specified conditions in the column"
   ]
  },
  {
   "cell_type": "markdown",
   "metadata": {},
   "source": [
    "dataset['newvar']=data.columnname1/data.columnname2\n"
   ]
  },
  {
   "cell_type": "markdown",
   "metadata": {},
   "source": [
    "dataset.loc[:,['columnsname1','columnsname2']]\n",
    "to get the index of the dataset based on the specified conditions"
   ]
  },
  {
   "cell_type": "markdown",
   "metadata": {},
   "source": [
    "dataset.sort(columns='columnname')\n",
    "to sort by a particular column in dataset "
   ]
  },
  {
   "cell_type": "markdown",
   "metadata": {},
   "source": [
    "dataset=dataset.sort_index(axis=1,ascending=True)\n",
    "to change the columns based on alphabatical order of columns\n"
   ]
  },
  {
   "cell_type": "markdown",
   "metadata": {},
   "source": [
    "dataset1=dataset1.sort_index(axis=0,ascending=True)\n",
    "to reverse the position of rows of the dataset "
   ]
  },
  {
   "cell_type": "markdown",
   "metadata": {
    "collapsed": true
   },
   "source": [
    "fraud.iloc[:,-1]\tto give the columns of last column\n"
   ]
  },
  {
   "cell_type": "markdown",
   "metadata": {},
   "source": [
    "dataset.column.unique\n",
    "to find type of the column of the dataset \n"
   ]
  },
  {
   "cell_type": "markdown",
   "metadata": {},
   "source": [
    "pd.groupby(mort6,mort6['type']).count()\n",
    "to group by one column and do count of column"
   ]
  },
  {
   "cell_type": "markdown",
   "metadata": {},
   "source": [
    "mort6.groupby(['year','type']).count()\n",
    "to do group by 2 columns and do count of each columns in dataset"
   ]
  },
  {
   "cell_type": "markdown",
   "metadata": {},
   "source": [
    "mort6.groupby(['year','type']).max()\n",
    "to do group by 2 columns and find maximum of each column in dataset"
   ]
  },
  {
   "cell_type": "markdown",
   "metadata": {},
   "source": [
    "mort6.groupby(['year','type']).min()\n",
    "to do group by 2 columns and find minimum of each column in dataset"
   ]
  },
  {
   "cell_type": "markdown",
   "metadata": {},
   "source": [
    "mort6.groupby(['year','type']).std()\n",
    "to do groupby 2 columns and find std deviation of each column in dataset"
   ]
  },
  {
   "cell_type": "markdown",
   "metadata": {},
   "source": [
    "mort6.groupby(['year','type']).mean()\n",
    "to do groupby 2 columns and find mean of each column in dataset"
   ]
  },
  {
   "cell_type": "markdown",
   "metadata": {},
   "source": [
    "mort7=mort6.assign(e=pd.Series(np.random.randn(len(mort6))).values)\n",
    "to assign a new column and create a random series on values of the dataset"
   ]
  },
  {
   "cell_type": "code",
   "execution_count": null,
   "metadata": {
    "collapsed": true
   },
   "outputs": [],
   "source": [
    "filename=os.chdir('path of file')\n",
    " mortdefault=[pd.read_csv(i)for i in filename]"
   ]
  },
  {
   "cell_type": "markdown",
   "metadata": {},
   "source": [
    "pd.concat(mortdefault,ignore_index=True)\n",
    "if there are several csv files in the folder we first create path and read all the files in folder"
   ]
  },
  {
   "cell_type": "markdown",
   "metadata": {},
   "source": [
    "if df1,df2 and df3 are 3 seperate files we can create dataframe=[df1,df2,df3] and do concat(dataframe)\n",
    "to do concat of 3 datasets "
   ]
  },
  {
   "cell_type": "markdown",
   "metadata": {},
   "source": [
    "mort=pd.concat([mortdefault[0],mortdefault[1],mortdefault[2],mortdefault[3],mortdefault[4],mortdefault[5],mortdefault[6],mortdefault[7],mortdefault[8],mortdefault[9]],ignore_index=True)\n",
    "to do concat of all csv files in the folder"
   ]
  },
  {
   "cell_type": "markdown",
   "metadata": {},
   "source": [
    "mortdefault222=mortdefault[0].append(mortdefault[1]) \n",
    "to append files is another way of reading csv files in path. \n",
    "if there are 9 files we append each of the file"
   ]
  },
  {
   "cell_type": "markdown",
   "metadata": {},
   "source": [
    "mort10=mort6.loc[(mort6['ccDebt']>5000)|(mort6['default']==0),['year','ccDebt']]\n",
    "mort10\n",
    "to give seperate specified columns of dataset based on if or condition."
   ]
  },
  {
   "cell_type": "markdown",
   "metadata": {},
   "source": [
    "mort10=mort6.loc[(mort6['ccDebt']>5000)&(mort6['default']==0),['year','ccDebt']]\n",
    "mort10\n",
    "to give seperate specified columns of dataset based on if and condition."
   ]
  },
  {
   "cell_type": "markdown",
   "metadata": {},
   "source": [
    "mort10=mort6.pivot_table(index='year',values='ccDebt',columns='default',aggfunc='std',margins=True)\n",
    "to do pivot table of the dataset using std. We can use mean, count,max, min using pivot table"
   ]
  },
  {
   "cell_type": "markdown",
   "metadata": {},
   "source": [
    "mort6.pivot_table(index='year',aggfunc='std')\n",
    "if we do like this we can get std deviation mean, maximum and minimum"
   ]
  },
  {
   "cell_type": "code",
   "execution_count": null,
   "metadata": {
    "collapsed": true
   },
   "outputs": [],
   "source": [
    "fraud.to_csv('D:\\\\ccFraud.csv',index=False)\n",
    "\n",
    "to write a file in d drive"
   ]
  }
 ],
 "metadata": {
  "kernelspec": {
   "display_name": "Python 3",
   "language": "python",
   "name": "python3"
  },
  "language_info": {
   "codemirror_mode": {
    "name": "ipython",
    "version": 3
   },
   "file_extension": ".py",
   "mimetype": "text/x-python",
   "name": "python",
   "nbconvert_exporter": "python",
   "pygments_lexer": "ipython3",
   "version": "3.6.0"
  }
 },
 "nbformat": 4,
 "nbformat_minor": 2
}
